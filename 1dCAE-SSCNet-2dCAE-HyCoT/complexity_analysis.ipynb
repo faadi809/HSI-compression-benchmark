{
 "cells": [
  {
   "cell_type": "code",
   "execution_count": null,
   "metadata": {},
   "outputs": [],
   "source": [
    "import torchinfo\n",
    "\n",
    "from models import models"
   ]
  },
  {
   "cell_type": "code",
   "execution_count": null,
   "metadata": {},
   "outputs": [],
   "source": [
    "model_strings = [\n",
    "    \"cae1d_cr4\",\n",
    "    \"cae1d_cr8\",\n",
    "    \"cae1d_cr16\",\n",
    "    \"cae1d_cr32\",\n",
    "\n",
    "    \"sscnet_cr4\",\n",
    "    \"sscnet_cr8\",\n",
    "    \"sscnet_cr16\",\n",
    "    \"sscnet_cr32\",\n",
    "\n",
    "    \"cae3d_cr4\",\n",
    "    \"cae3d_cr8\",\n",
    "    \"cae3d_cr16\",\n",
    "    \"cae3d_cr32\",\n",
    "\n",
    "    \"hycot_cr4\",\n",
    "    \"hycot_cr8\",\n",
    "    \"hycot_cr16\",\n",
    "    \"hycot_cr32\",\n",
    "]\n",
    "\n",
    "batch_size = 1\n",
    "\n",
    "input_shape = (batch_size, 202, 128, 128)"
   ]
  },
  {
   "cell_type": "code",
   "execution_count": null,
   "metadata": {},
   "outputs": [],
   "source": [
    "for model_string in model_strings:\n",
    "    print(\"-----\")\n",
    "    print(model_string)\n",
    "\n",
    "    model = models[model_string]()\n",
    "\n",
    "    print(model.compression_ratio)\n",
    "\n",
    "    print(torchinfo.summary(model, input_size=input_shape, device=\"cpu\"))"
   ]
  }
 ],
 "metadata": {
  "kernelspec": {
   "display_name": "compression2",
   "language": "python",
   "name": "python3"
  },
  "language_info": {
   "codemirror_mode": {
    "name": "ipython",
    "version": 3
   },
   "file_extension": ".py",
   "mimetype": "text/x-python",
   "name": "python",
   "nbconvert_exporter": "python",
   "pygments_lexer": "ipython3",
   "version": "3.10.6"
  }
 },
 "nbformat": 4,
 "nbformat_minor": 2
}
